{
 "cells": [
  {
   "cell_type": "code",
   "execution_count": 1,
   "metadata": {},
   "outputs": [],
   "source": [
    "from full_model import DecisionModel\n",
    "import pandas as pd\n",
    "from sklearn.metrics import accuracy_score, f1_score"
   ]
  },
  {
   "cell_type": "code",
   "execution_count": 2,
   "metadata": {},
   "outputs": [],
   "source": [
    "# Load in datasets\n",
    "train_set = pd.read_csv(\"../data/processed_data/pca_train_no_ACK_Flooding.csv\")\n",
    "test_set = pd.read_csv(\"../data/processed_data/pca_test_no_ACK_Flooding.csv\")\n",
    "val_set = pd.read_csv(\"../data/processed_data/pca_val_no_ACK_Flooding.csv\")"
   ]
  },
  {
   "cell_type": "markdown",
   "metadata": {},
   "source": [
    "### Training Model from Scratch\n",
    "Run the following code to create a new decision model and train sub-models from scratch."
   ]
  },
  {
   "cell_type": "code",
   "execution_count": 4,
   "metadata": {},
   "outputs": [],
   "source": [
    "# Create decision model\n",
    "model = DecisionModel(\n",
    "    multiclass_params = {\n",
    "        \"input_size\": 12,\n",
    "        \"layers\": [512, 128, 64, 16],\n",
    "        \"num_classes\": len(train_set['label'].unique()),\n",
    "        \"epochs\": 100\n",
    "    },\n",
    "    binary_params = {\n",
    "        \"input_size\": 12,\n",
    "        \"layers\": [512, 128, 64, 16],\n",
    "        \"epochs\": 100\n",
    "    }\n",
    ")"
   ]
  },
  {
   "cell_type": "code",
   "execution_count": null,
   "metadata": {},
   "outputs": [],
   "source": [
    "model.train_all(train_set, val_set)"
   ]
  },
  {
   "cell_type": "markdown",
   "metadata": {},
   "source": [
    "### Loading Pre-trained Model Components\n",
    "Run the following code to create a decision model using pre-trained sub-models."
   ]
  },
  {
   "cell_type": "code",
   "execution_count": null,
   "metadata": {},
   "outputs": [],
   "source": [
    "import joblib\n",
    "\n",
    "knn = joblib.load('knn_no_ACK.joblib')\n",
    "\n",
    "model = DecisionModel(\n",
    "    multiclass_params={\"input_size\":12, \"layers\": [512, 128, 64, 16], \"num_classes\": 9, \"epochs\": 100},\n",
    "    binary_params={\"input_size\": 12, \"layers\": [512, 128, 64, 16], \"epochs\": 100},\n",
    "    multiclass_model_path=\"classifier_no_ACK_Flooding.pt\",\n",
    "    binary_model_path=\"binary_classifier_no_ACK_Flooding.pt\",\n",
    "    kNN_model=knn\n",
    ")"
   ]
  },
  {
   "cell_type": "markdown",
   "metadata": {},
   "source": [
    "### Evaluating Model Performance"
   ]
  },
  {
   "cell_type": "code",
   "execution_count": 9,
   "metadata": {},
   "outputs": [],
   "source": [
    "predicted_labels = model.full_predict(train_set, test_set)"
   ]
  },
  {
   "cell_type": "code",
   "execution_count": null,
   "metadata": {},
   "outputs": [],
   "source": [
    "y_true_class = test_set[[\"label\"]]\n",
    "\n",
    "accuracy = accuracy_score(y_true_class, predicted_labels)\n",
    "f1 = f1_score(y_true_class, predicted_labels, average='macro')\n",
    "\n",
    "print(f\"Accuracy: {accuracy:.4f}\")\n",
    "print(f\"F1 Score: {f1:.4f}\")"
   ]
  },
  {
   "cell_type": "code",
   "execution_count": null,
   "metadata": {},
   "outputs": [],
   "source": []
  }
 ],
 "metadata": {
  "kernelspec": {
   "display_name": "thesis",
   "language": "python",
   "name": "python3"
  },
  "language_info": {
   "codemirror_mode": {
    "name": "ipython",
    "version": 3
   },
   "file_extension": ".py",
   "mimetype": "text/x-python",
   "name": "python",
   "nbconvert_exporter": "python",
   "pygments_lexer": "ipython3",
   "version": "3.12.3"
  }
 },
 "nbformat": 4,
 "nbformat_minor": 2
}
